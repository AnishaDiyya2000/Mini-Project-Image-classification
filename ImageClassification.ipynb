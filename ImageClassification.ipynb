{
  "nbformat": 4,
  "nbformat_minor": 0,
  "metadata": {
    "colab": {
      "name": "ImageClassification.ipynb",
      "provenance": [],
      "collapsed_sections": [],
      "mount_file_id": "1ErHPB6ujxa60A7m_0bLYkC4BcNcnt_E1",
      "authorship_tag": "ABX9TyOpBph707QbYgdPPp2P9dm8",
      "include_colab_link": true
    },
    "kernelspec": {
      "name": "python3",
      "display_name": "Python 3"
    }
  },
  "cells": [
    {
      "cell_type": "markdown",
      "metadata": {
        "id": "view-in-github",
        "colab_type": "text"
      },
      "source": [
        "<a href=\"https://colab.research.google.com/github/AnishaDiyya2000/Mini-Project-Image-classification/blob/master/ImageClassification.ipynb\" target=\"_parent\"><img src=\"https://colab.research.google.com/assets/colab-badge.svg\" alt=\"Open In Colab\"/></a>"
      ]
    },
    {
      "cell_type": "code",
      "metadata": {
        "id": "EkFx46vAbY1n",
        "outputId": "dff5a86f-5c11-4144-9e18-b41b4c932a46",
        "colab": {
          "base_uri": "https://localhost:8080/",
          "height": 105
        }
      },
      "source": [
        "!pip install bing-image-downloader"
      ],
      "execution_count": null,
      "outputs": [
        {
          "output_type": "stream",
          "text": [
            "Collecting bing-image-downloader\n",
            "  Downloading https://files.pythonhosted.org/packages/0d/bf/537a61030b84ae4cd5022d5c7b014fd9bc3ce7c02358919153a6658a61d3/bing_image_downloader-1.0.4-py3-none-any.whl\n",
            "Installing collected packages: bing-image-downloader\n",
            "Successfully installed bing-image-downloader-1.0.4\n"
          ],
          "name": "stdout"
        }
      ]
    },
    {
      "cell_type": "code",
      "metadata": {
        "id": "SwLeUULxblEm",
        "outputId": "723f9368-00e6-4b63-839f-2fd8bebd0b4c",
        "colab": {
          "base_uri": "https://localhost:8080/",
          "height": 34
        }
      },
      "source": [
        "!ls"
      ],
      "execution_count": null,
      "outputs": [
        {
          "output_type": "stream",
          "text": [
            "drive  sample_data\n"
          ],
          "name": "stdout"
        }
      ]
    },
    {
      "cell_type": "code",
      "metadata": {
        "id": "yn6g4Ms-bsLS",
        "outputId": "2ef89098-1aa7-4224-d113-57900b204d77",
        "colab": {
          "base_uri": "https://localhost:8080/",
          "height": 34
        }
      },
      "source": [
        "cd /content/drive/My Drive/AI"
      ],
      "execution_count": null,
      "outputs": [
        {
          "output_type": "stream",
          "text": [
            "/content/drive/My Drive/AI\n"
          ],
          "name": "stdout"
        }
      ]
    },
    {
      "cell_type": "code",
      "metadata": {
        "id": "Myg3OYWdc3u1"
      },
      "source": [
        "!mkdir images"
      ],
      "execution_count": null,
      "outputs": []
    },
    {
      "cell_type": "code",
      "metadata": {
        "id": "C22CjEMmc9Qm",
        "outputId": "19ac6dfd-32ad-4062-b91d-af30d2c6f1f5",
        "colab": {
          "base_uri": "https://localhost:8080/",
          "height": 34
        }
      },
      "source": [
        "cd images"
      ],
      "execution_count": null,
      "outputs": [
        {
          "output_type": "stream",
          "text": [
            "/content/drive/My Drive/AI/images\n"
          ],
          "name": "stdout"
        }
      ]
    },
    {
      "cell_type": "code",
      "metadata": {
        "id": "NaSIgWduc_OI",
        "outputId": "2d13ab2f-1970-421e-cfec-473b91e11843",
        "colab": {
          "base_uri": "https://localhost:8080/",
          "height": 1000
        }
      },
      "source": [
        "from bing_image_downloader import downloader\n",
        "downloader.download(\"apple fruit\",limit=50,output_dir='images')"
      ],
      "execution_count": null,
      "outputs": [
        {
          "output_type": "stream",
          "text": [
            "\n",
            "\n",
            "[!!]Indexing page: 1\n",
            "\n",
            "[%] Indexed 50 Images on Page 1.\n",
            "\n",
            "===============================================\n",
            "\n",
            "[%] Downloading Image #1 from https://www.healthbenefitstimes.com/9/gallery/apple/Apple-fruit.jpg\n",
            "[%] File Downloaded !\n",
            "\n",
            "[%] Downloading Image #2 from http://www.chhajedgarden.com/media/catalog/product/cache/1/image/9df78eab33525d08d6e5fb8d27136e95/0/4/04_apples.jpg\n",
            "[%] File Downloaded !\n",
            "\n",
            "[%] Downloading Image #3 from https://dairyfoodblog.files.wordpress.com/2017/08/apple4.jpg\n",
            "[%] File Downloaded !\n",
            "\n",
            "[%] Downloading Image #4 from http://dreamicus.com/data/apple/apple-01.jpg\n",
            "[%] File Downloaded !\n",
            "\n",
            "[%] Downloading Image #5 from https://www.theayurveda.org/wp-content/uploads/2015/08/Apple-fruit.jpg\n",
            "[%] File Downloaded !\n",
            "\n",
            "[%] Downloading Image #6 from https://www.znaturalfoods.com/1501-thickbox_default/apple-powder-organic.jpg\n",
            "[%] File Downloaded !\n",
            "\n",
            "[%] Downloading Image #7 from http://aggie-horticulture.tamu.edu/vegetable/files/2011/10/apple26.jpg\n",
            "[%] File Downloaded !\n",
            "\n",
            "[%] Downloading Image #8 from https://oneflowyogastudio.com/wp-content/uploads/2019/01/Apple-fruit.jpg\n",
            "[%] File Downloaded !\n",
            "\n",
            "[%] Downloading Image #9 from http://2.bp.blogspot.com/-M_Vmb930MtQ/T7pF_Pyx5bI/AAAAAAAABMM/Q_VtD-ILbig/s1600/apple2.jpg\n",
            "[%] File Downloaded !\n",
            "\n",
            "[%] Downloading Image #10 from http://www.fruitshare.ca/wp-content/uploads/2011/08/apple.jpg\n",
            "[%] File Downloaded !\n",
            "\n",
            "[%] Downloading Image #11 from https://bangaloreagrico.in/wp-content/uploads/2018/01/apple-plant-bangalore-agrico.jpg\n",
            "[%] File Downloaded !\n",
            "\n",
            "[%] Downloading Image #12 from http://www.vigorous-tech.com/d/pic/3-fruit-powder/red-apple.jpg\n",
            "[%] File Downloaded !\n",
            "\n",
            "[%] Downloading Image #13 from http://www.hdwallpapersfreedownload.com/uploads/large/fruits/red-apple-hd-background.jpg\n",
            "[%] File Downloaded !\n",
            "\n",
            "[%] Downloading Image #14 from https://www.wcrf-uk.org/sites/default/files/Apple_A-Z%20Fruit1.jpg\n",
            "[%] File Downloaded !\n",
            "\n",
            "[%] Downloading Image #15 from https://www.healthbenefitstimes.com/9/gallery/apple/Half-cut-Apple-fruit.jpg\n",
            "[%] File Downloaded !\n",
            "\n",
            "[%] Downloading Image #16 from http://treefruit.wsu.edu/wp-content/uploads/2014/10/clonal-apples.jpg\n",
            "[%] File Downloaded !\n",
            "\n",
            "[%] Downloading Image #17 from https://get.pxhere.com/photo/apple-plant-fruit-flower-food-red-produce-healthy-flowering-plant-rose-family-land-plant-rose-order-944141.jpg\n",
            "[%] File Downloaded !\n",
            "\n",
            "[%] Downloading Image #18 from https://justicedistribution.com/wp-content/uploads/2015/09/15FruitsVeggies_Akron0002.jpg\n",
            "[%] File Downloaded !\n",
            "\n",
            "[%] Downloading Image #19 from http://www.reportingday.com/wp-content/uploads/2018/07/Couple-Of-Apple-HD-Images-Gallery.png\n",
            "[%] File Downloaded !\n",
            "\n",
            "[%] Downloading Image #20 from http://dreamicus.com/data/apple/apple-05.jpg\n",
            "[%] File Downloaded !\n",
            "\n",
            "[%] Downloading Image #21 from https://5.imimg.com/data5/YY/EN/MY-8155364/fresh-apple-500x500.jpg\n",
            "[%] File Downloaded !\n",
            "\n",
            "[%] Downloading Image #22 from https://5.imimg.com/data5/WA/US/MY-18632401/apple-fruit-500x500.jpg\n",
            "[%] File Downloaded !\n",
            "\n",
            "[%] Downloading Image #23 from https://u.osu.edu/chowline/files/2014/09/57576191-1388yb8.jpg\n",
            "[%] File Downloaded !\n",
            "\n",
            "[%] Downloading Image #24 from http://ayay.co.uk/backgrounds/food_and_drink/fruit/red-apple.jpg\n",
            "[%] File Downloaded !\n",
            "\n",
            "[%] Downloading Image #25 from http://images6.fanpop.com/image/photos/34900000/Apple-fruit-34914774-693-693.jpg\n",
            "[%] File Downloaded !\n",
            "\n",
            "[%] Downloading Image #26 from https://www.babyprepping.com/wp-content/uploads/2018/03/apple-3117507_640.jpg\n",
            "[%] File Downloaded !\n",
            "\n",
            "[%] Downloading Image #27 from https://get.pxhere.com/photo/apple-plant-fruit-food-produce-fruits-apples-flowering-plant-rose-family-land-plant-rose-order-1169843.jpg\n",
            "[%] File Downloaded !\n",
            "\n",
            "[%] Downloading Image #28 from https://expatmuminluxembourg.files.wordpress.com/2014/09/apple_fruit_apple_tree.jpg\n",
            "[%] File Downloaded !\n",
            "\n",
            "[%] Downloading Image #29 from https://southboundvapes.com/wp-content/uploads/2016/04/Natural-red-apple.jpg\n",
            "[%] File Downloaded !\n",
            "\n",
            "[%] Downloading Image #30 from https://commonsensehealth.com/wp-content/uploads/2013/07/apples.jpg\n",
            "[%] File Downloaded !\n",
            "\n",
            "[%] Downloading Image #31 from http://www.photo-elsoar.com/wp-content/images/Fresh-Red-Apple-Fruits-B.jpg\n",
            "[%] File Downloaded !\n",
            "\n",
            "[%] Downloading Image #32 from https://thumbs.dreamstime.com/z/red-apple-fruit-leaf-isolated-39394737.jpg\n",
            "[%] File Downloaded !\n",
            "\n",
            "[%] Downloading Image #33 from https://tiimg.tistatic.com/fp/1/005/527/best-grade-fresh-apple-fruit-825.jpg\n",
            "[Error]Invalid image, not saving https://tiimg.tistatic.com/fp/1/005/527/best-grade-fresh-apple-fruit-825.jpg\n",
            "\n",
            "[!] Issue getting: https://tiimg.tistatic.com/fp/1/005/527/best-grade-fresh-apple-fruit-825.jpg\n",
            "[!] Error:: No active exception to reraise\n",
            "[%] Downloading Image #33 from http://3.bp.blogspot.com/-0AHRTVSc3Ag/ToV1HFrBqNI/AAAAAAAABrw/xS_RI0ZKoeU/s1600/apple2.jpg\n",
            "[%] File Downloaded !\n",
            "\n",
            "[%] Downloading Image #34 from http://images5.fanpop.com/image/photos/31100000/apples-fruit-31188668-1707-2560.jpg\n",
            "[%] File Downloaded !\n",
            "\n",
            "[%] Downloading Image #35 from https://images.wisegeek.com/gala-apple.jpg\n",
            "[%] File Downloaded !\n",
            "\n",
            "[%] Downloading Image #36 from https://veritasdeivincit.files.wordpress.com/2016/02/hd-fruit-red-apple.jpg\n",
            "[%] File Downloaded !\n",
            "\n",
            "[%] Downloading Image #37 from http://www.homepreservingbible.com/wp-content/uploads/2012/10/Apples-C.Cancler.jpg\n",
            "[%] File Downloaded !\n",
            "\n",
            "[%] Downloading Image #38 from http://www.themarketingsage.com/wp-content/uploads/2013/03/250px-Honeycrisp-Apple.jpg\n",
            "[%] File Downloaded !\n",
            "\n",
            "[%] Downloading Image #39 from https://media.indiatimes.in/media/content/2012/Oct/apple-fruit_1349335997_460x460.jpg\n",
            "[%] File Downloaded !\n",
            "\n",
            "[%] Downloading Image #40 from https://get.pxhere.com/photo/apple-plant-fruit-food-produce-healthy-flowering-plant-rose-family-still-life-photography-land-plant-rose-order-1049364.jpg\n",
            "[%] File Downloaded !\n",
            "\n",
            "[%] Downloading Image #41 from https://www.sreemeenakshifruits.com/content/images/thumbs/0000121_shimla-apple-125_415.png\n",
            "[%] File Downloaded !\n",
            "\n",
            "[%] Downloading Image #42 from http://simplyshellie.com/wp-content/uploads/2014/10/Apples.jpg\n",
            "[%] File Downloaded !\n",
            "\n",
            "[%] Downloading Image #43 from https://static.pexels.com/photos/211356/pexels-photo-211356.png\n",
            "[%] File Downloaded !\n",
            "\n",
            "[%] Downloading Image #44 from https://www.sagefruit.com/wp-content/uploads/2016/08/our-fruit-apples-1.jpg\n",
            "[Error]Invalid image, not saving https://www.sagefruit.com/wp-content/uploads/2016/08/our-fruit-apples-1.jpg\n",
            "\n",
            "[!] Issue getting: https://www.sagefruit.com/wp-content/uploads/2016/08/our-fruit-apples-1.jpg\n",
            "[!] Error:: No active exception to reraise\n",
            "[%] Downloading Image #44 from http://www.pngall.com/wp-content/uploads/2016/04/Apple-Fruit-Transparent.png\n",
            "[%] File Downloaded !\n",
            "\n",
            "[%] Downloading Image #45 from https://ae01.alicdn.com/kf/HLB1BX63X5rxK1RkHFCcxh7QCVXaq/10pcs-set-Large-Artificial-Fake-Red-Green-Apple-Fruits-Kitchen-Home-Food-Decor-Fake-Fruits-Teaching.jpeg\n",
            "[%] File Downloaded !\n",
            "\n",
            "[%] Downloading Image #46 from http://www.pngall.com/wp-content/uploads/2016/04/Apple-Fruit-Free-PNG-Image.png\n",
            "[%] File Downloaded !\n",
            "\n",
            "[%] Downloading Image #47 from http://3.bp.blogspot.com/-pe7IkAq55vg/Tz0_jZ5L8VI/AAAAAAAAADw/nEsgmCIxdr8/s1600/3.jpg\n",
            "[%] File Downloaded !\n",
            "\n",
            "[%] Downloading Image #48 from https://www.thegunnysack.com/wp-content/uploads/2016/03/Apple-Fruit-Basket-Recipe.jpg\n",
            "[%] File Downloaded !\n",
            "\n",
            "\n",
            "\n",
            "[!!]Indexing page: 2\n",
            "\n",
            "[%] Indexed 35 Images on Page 2.\n",
            "\n",
            "===============================================\n",
            "\n",
            "[%] Downloading Image #49 from https://www.healthbenefitstimes.com/9/gallery/apple/Apple-fruit.jpg\n",
            "[%] File Downloaded !\n",
            "\n",
            "[%] Downloading Image #50 from https://dairyfoodblog.files.wordpress.com/2017/08/apple4.jpg\n",
            "[%] File Downloaded !\n",
            "\n",
            "\n",
            "\n",
            "[%] Done. Downloaded 50 images.\n",
            "\n",
            "===============================================\n",
            "\n"
          ],
          "name": "stdout"
        }
      ]
    },
    {
      "cell_type": "code",
      "metadata": {
        "id": "33gTjR65dKyf",
        "outputId": "2aed64a1-9a82-4e5d-ed54-25be17c57772",
        "colab": {
          "base_uri": "https://localhost:8080/",
          "height": 286
        }
      },
      "source": [
        "path='/content/drive/My Drive/AI/images/images/apple fruit/Image_1.jpg'\n",
        "import cv2\n",
        "import matplotlib.pyplot as plt\n",
        "\n",
        "i=cv2.imread(path)\n",
        "i=cv2.cvtColor(i,cv2.COLOR_BGR2RGB)\n",
        "plt.imshow(i)"
      ],
      "execution_count": null,
      "outputs": [
        {
          "output_type": "execute_result",
          "data": {
            "text/plain": [
              "<matplotlib.image.AxesImage at 0x7ff9c0265e80>"
            ]
          },
          "metadata": {
            "tags": []
          },
          "execution_count": 32
        },
        {
          "output_type": "display_data",
          "data": {
            "image/png": "[encoded data removed]",
            "text/plain": [
              "<Figure size 432x288 with 1 Axes>"
            ]
          },
          "metadata": {
            "tags": [],
            "needs_background": "light"
          }
        }
      ]
    },
    {
      "cell_type": "code",
      "metadata": {
        "id": "1LDIDomreQ6J",
        "outputId": "6b25166b-d4ba-4d36-8bbd-eadf4004c663",
        "colab": {
          "base_uri": "https://localhost:8080/",
          "height": 1000
        }
      },
      "source": [
        "downloader.download(\"lemon fruit\",limit=50,output_dir='images')"
      ],
      "execution_count": null,
      "outputs": [
        {
          "output_type": "stream",
          "text": [
            "\n",
            "\n",
            "[!!]Indexing page: 1\n",
            "\n",
            "[%] Indexed 50 Images on Page 1.\n",
            "\n",
            "===============================================\n",
            "\n",
            "[%] Downloading Image #1 from http://liveseasoned.com/wp-content/uploads/2015/06/Lemon-Whole-Split.jpg\n",
            "[%] File Downloaded !\n",
            "\n",
            "[%] Downloading Image #2 from http://images6.fanpop.com/image/photos/34900000/Lemon-fruit-34914820-1000-1000.jpg\n",
            "[%] File Downloaded !\n",
            "\n",
            "[%] Downloading Image #3 from https://iheartsomething.files.wordpress.com/2013/05/lemon1.jpg\n",
            "[%] File Downloaded !\n",
            "\n",
            "[%] Downloading Image #4 from http://images6.fanpop.com/image/photos/34900000/Lemon-fruit-34914817-1000-833.jpg\n",
            "[%] File Downloaded !\n",
            "\n",
            "[%] Downloading Image #5 from http://www.natural-cure.org/wp-content/uploads/wonders-of-lemon.jpg\n",
            "[%] File Downloaded !\n",
            "\n",
            "[%] Downloading Image #6 from http://cdn-img.health.com/sites/default/files/styles/medium_16_9/public/1483718705/GettyImages-163120954_0_0.jpg?itok=BLDo5-qI\n",
            "[%] File Downloaded !\n",
            "\n",
            "[%] Downloading Image #7 from http://www.secretlyhealthy.com/wp-content/uploads/2014/01/lemon.jpg\n",
            "[!] Issue getting: http://www.secretlyhealthy.com/wp-content/uploads/2014/01/lemon.jpg\n",
            "[!] Error:: HTTP Error 404: Not Found\n",
            "[%] Downloading Image #7 from https://keelings.ie/wp-content/uploads/2016/04/citrus-1.jpg\n",
            "[%] File Downloaded !\n",
            "\n",
            "[%] Downloading Image #8 from https://4.bp.blogspot.com/-6ND6BQdsNvg/UZusyvCDppI/AAAAAAAAAIg/GaVf1N858jE/s1600/march-lemon-fruits-desktop-free-wallpaper.jpg\n",
            "[%] File Downloaded !\n",
            "\n",
            "[%] Downloading Image #9 from https://smartklean.files.wordpress.com/2014/02/lemon-fruit-34914821-1024-828.png\n",
            "[%] File Downloaded !\n",
            "\n",
            "[%] Downloading Image #10 from http://images6.fanpop.com/image/photos/34900000/Lemon-fruit-34914824-3000-2000.jpg\n",
            "[%] File Downloaded !\n",
            "\n",
            "[%] Downloading Image #11 from https://cdn.nippys.com.au/nippys-website/site/wp-content/uploads/2016/12/13113305/Fruit_Lemons.jpg\n",
            "[%] File Downloaded !\n",
            "\n",
            "[%] Downloading Image #12 from https://images.homedepot-static.com/productImages/c6b87606-9631-4f2b-ad36-f087c75db5ce/svn/bloomsz-fruit-trees-plants-00416-64_1000.jpg\n",
            "[%] File Downloaded !\n",
            "\n",
            "[%] Downloading Image #13 from https://media.istockphoto.com/photos/lemon-fruit-with-half-and-leaves-isolated-on-white-picture-id466175634\n",
            "[%] File Downloaded !\n",
            "\n",
            "[%] Downloading Image #14 from https://media.buzzle.com/media/images-en/gallery/vegetables/1200-167622042-lemons.jpg\n",
            "[%] File Downloaded !\n",
            "\n",
            "[%] Downloading Image #15 from https://media.buzzle.com/media/images-en/gallery/fruits/1200-127029705-lemon-fruit.jpg\n",
            "[%] File Downloaded !\n",
            "\n",
            "[%] Downloading Image #16 from https://sc02.alicdn.com/kf/UTB8HhMSGFfFXKJk43Otq6xIPFXap/946577091/UTB8HhMSGFfFXKJk43Otq6xIPFXap.jpg\n",
            "[%] File Downloaded !\n",
            "\n",
            "[%] Downloading Image #17 from http://hdwallpaperfun.com/wp-content/uploads/2014/10/Lemon-Fruit-Free-HD-Widescreen-Wallpapers-723637.jpg\n",
            "[%] File Downloaded !\n",
            "\n",
            "[%] Downloading Image #18 from https://lemonconcentrate.com/wp-content/uploads/2017/08/lemon-fruit-products-manufacturer-and-supplier-e1513239958412.jpg\n",
            "[%] File Downloaded !\n",
            "\n",
            "[%] Downloading Image #19 from https://clipartion.com/wp-content/uploads/2015/11/lemon-png-images-free-fruit-png-pictures.png\n",
            "[%] File Downloaded !\n",
            "\n",
            "[%] Downloading Image #20 from https://golden-fruits.com/wp-content/uploads/2018/02/lemon-xrysikos-500x500.jpg\n",
            "[%] File Downloaded !\n",
            "\n",
            "[%] Downloading Image #21 from https://cdn0.wideopeneats.com/wp-content/uploads/2018/02/AdobeStock_139986300.jpeg\n",
            "[%] File Downloaded !\n",
            "\n",
            "[%] Downloading Image #22 from https://thevedix.files.wordpress.com/2014/10/dotvital-com-citrus-fresh-fruit-slices.jpg\n",
            "[%] File Downloaded !\n",
            "\n",
            "[%] Downloading Image #23 from https://www.organicfacts.net/wp-content/uploads/lemon.jpg\n",
            "[%] File Downloaded !\n",
            "\n",
            "[%] Downloading Image #24 from https://media.fromthegrapevine.com/assets/images/2017/8/citrus-assorted.jpg.824x0_q71_crop-scale.jpg\n",
            "[%] File Downloaded !\n",
            "\n",
            "[%] Downloading Image #25 from https://media.buzzle.com/media/images-en/gallery/fruits/1200-506550464-lemon.jpg\n",
            "[%] File Downloaded !\n",
            "\n",
            "[%] Downloading Image #26 from http://zkhanakhazana.files.wordpress.com/2012/02/lemon.jpg\n",
            "[%] File Downloaded !\n",
            "\n",
            "[%] Downloading Image #27 from https://naturalon.com/wp-content/uploads/2016/11/bigstock-Lemon-Lemons-Fruits-Isolated-O-125560670.jpg\n",
            "[%] File Downloaded !\n",
            "\n",
            "[%] Downloading Image #28 from https://get.wallhere.com/photo/leaves-food-white-background-fruit-tangerine-orange-citrus-Clementine-plant-oranges-cut-produce-land-plant-flowering-plant-bitter-orange-mandarin-orange-slice-tangelo-sweet-lemon-valencia-orange-lemon-lime-kumquat-618086.jpg\n",
            "[%] File Downloaded !\n",
            "\n",
            "[%] Downloading Image #29 from https://www.shared.com/content/images/2018/03/Citrus-fruits.jpg\n",
            "[Error]Invalid image, not saving https://www.shared.com/content/images/2018/03/Citrus-fruits.jpg\n",
            "\n",
            "[!] Issue getting: https://www.shared.com/content/images/2018/03/Citrus-fruits.jpg\n",
            "[!] Error:: No active exception to reraise\n",
            "[%] Downloading Image #29 from https://www.freshfruitportal.com/assets/uploads/2017/05/lemons_70598971.jpg\n",
            "[%] File Downloaded !\n",
            "\n",
            "[%] Downloading Image #30 from https://www.tasteofhome.com/wp-content/uploads/2019/06/citrus-shutterstock_677547223-800x450.jpg\n",
            "[%] File Downloaded !\n",
            "\n",
            "[%] Downloading Image #31 from https://img1.cookinglight.timeinc.net/sites/default/files/styles/4_3_horizontal_-_1200x900/public/image/2017/11/main/citrus-variety-getty-1711w.jpg?itok=S0XHiXja\n",
            "[%] File Downloaded !\n",
            "\n",
            "[%] Downloading Image #32 from http://cuisinicity.com/wp-content/uploads/2015/03/The-Freshness-of-Citrus-bowl-of-citrus-fruit.jpg\n",
            "[%] File Downloaded !\n",
            "\n",
            "[%] Downloading Image #33 from https://media.istockphoto.com/photos/collection-of-citrus-fruits-halves-isolated-on-white-picture-id477895496\n",
            "[%] File Downloaded !\n",
            "\n",
            "[%] Downloading Image #34 from http://themastercleanse.org/wp-content/uploads/citrus-fruit-chart.jpg\n",
            "[%] File Downloaded !\n",
            "\n",
            "[%] Downloading Image #35 from https://www.healthbenefitstimes.com/9/gallery/lemon/Lemon-fruit-unripe.jpg\n",
            "[%] File Downloaded !\n",
            "\n",
            "[%] Downloading Image #36 from http://onegirlblog.com/wp-content/uploads/iStock_000014763223_Large.jpg\n",
            "[%] File Downloaded !\n",
            "\n",
            "[%] Downloading Image #37 from https://thumbs.dreamstime.com/z/lemon-fruit-white-25232053.jpg\n",
            "[%] File Downloaded !\n",
            "\n",
            "[%] Downloading Image #38 from http://3.bp.blogspot.com/-w-6vGX60aNE/TkdaUlf0iFI/AAAAAAAAAHo/O7dMdPPRnh4/s1600/Citrus+Fruits.jpg\n",
            "[%] File Downloaded !\n",
            "\n",
            "[%] Downloading Image #39 from https://cdn1.medicalnewstoday.com/content/images/articles/324/324431/healthiest-fruits-lemons.jpg\n",
            "[!] Issue getting: https://cdn1.medicalnewstoday.com/content/images/articles/324/324431/healthiest-fruits-lemons.jpg\n",
            "[!] Error:: <urlopen error [Errno -2] Name or service not known>\n",
            "[%] Downloading Image #39 from https://pieceofcakepeaceofmind.files.wordpress.com/2010/06/lemon-sugar-cookies-51.jpg\n",
            "[%] File Downloaded !\n",
            "\n",
            "[%] Downloading Image #40 from https://kingsplantbarn.files.wordpress.com/2012/04/lemon-large.jpg\n",
            "[%] File Downloaded !\n",
            "\n",
            "[%] Downloading Image #41 from https://www.bristolfarms.com/wp-content/uploads/2019/01/fruit-Assorted-fresh-citrus-fruits-with-leaves.jpg\n",
            "[%] File Downloaded !\n",
            "\n",
            "[%] Downloading Image #42 from https://media.istockphoto.com/photos/lemon-fruit-slice-circle-isolated-on-white-picture-id472148208\n",
            "[%] File Downloaded !\n",
            "\n",
            "[%] Downloading Image #43 from https://media.buzzle.com/media/images-en/gallery/fruits/1200-477130048-oranges.jpg\n",
            "[%] File Downloaded !\n",
            "\n",
            "[%] Downloading Image #44 from https://thecompleteherbalguide.com/wp-content/uploads/2017/06/Citrus-Fruits.jpg\n",
            "[%] File Downloaded !\n",
            "\n",
            "[%] Downloading Image #45 from http://plant.daleysfruit.com.au/ml/lemon-eureka-3114.jpeg\n",
            "[%] File Downloaded !\n",
            "\n",
            "[%] Downloading Image #46 from https://media.buzzle.com/media/images-en/gallery/fruits/1200-470221758-types-of-citrus-fruits.jpg\n",
            "[%] File Downloaded !\n",
            "\n",
            "[%] Downloading Image #47 from http://www.gardeningknowhow.com/wp-content/uploads/2012/08/lemon-fruit1.jpg\n",
            "[%] File Downloaded !\n",
            "\n",
            "\n",
            "\n",
            "[!!]Indexing page: 2\n",
            "\n",
            "[%] Indexed 35 Images on Page 2.\n",
            "\n",
            "===============================================\n",
            "\n",
            "[%] Downloading Image #48 from http://liveseasoned.com/wp-content/uploads/2015/06/Lemon-Whole-Split.jpg\n",
            "[%] File Downloaded !\n",
            "\n",
            "[%] Downloading Image #49 from http://images6.fanpop.com/image/photos/34900000/Lemon-fruit-34914820-1000-1000.jpg\n",
            "[%] File Downloaded !\n",
            "\n",
            "[%] Downloading Image #50 from https://iheartsomething.files.wordpress.com/2013/05/lemon1.jpg\n",
            "[%] File Downloaded !\n",
            "\n",
            "\n",
            "\n",
            "[%] Done. Downloaded 50 images.\n",
            "\n",
            "===============================================\n",
            "\n"
          ],
          "name": "stdout"
        }
      ]
    },
    {
      "cell_type": "code",
      "metadata": {
        "id": "8K0t44V-frdA",
        "outputId": "64b87603-3eb1-43f5-fb14-39158d22077e",
        "colab": {
          "base_uri": "https://localhost:8080/",
          "height": 867
        }
      },
      "source": [
        "#preprocessing of data\n",
        "# os -opreating system\n",
        "#reading an image -cv2,skimage,PIL (LIBRARIES)\n",
        "import os\n",
        "import cv2\n",
        "\n",
        "path='/content/drive/My Drive/AI/images/images/apple fruit'\n",
        "for filename in os.listdir(path):\n",
        "  i=cv2.imread(os.path.join(path,filename))\n",
        "  print(i.shape)\n",
        "# /content/drive/My Drive/AI/images/images/apple fruit/Image_1.jpg-last part always changes\n"
      ],
      "execution_count": null,
      "outputs": [
        {
          "output_type": "stream",
          "text": [
            "(2290, 2290, 3)\n",
            "(1204, 1595, 3)\n",
            "(900, 1200, 3)\n",
            "(1541, 1297, 3)\n",
            "(1800, 2880, 3)\n",
            "(800, 700, 3)\n",
            "(745, 800, 3)\n",
            "(1732, 1732, 3)\n",
            "(768, 1024, 3)\n",
            "(1880, 2816, 3)\n",
            "(600, 800, 3)\n",
            "(600, 800, 3)\n",
            "(2709, 3172, 3)\n",
            "(467, 467, 3)\n",
            "(1049, 1600, 3)\n",
            "(2700, 1757, 3)\n",
            "(3264, 4928, 3)\n",
            "(1800, 1800, 3)\n",
            "(700, 1050, 3)\n",
            "(4496, 3968, 3)\n",
            "(500, 500, 3)\n",
            "(364, 319, 3)\n",
            "(1733, 1733, 3)\n",
            "(1080, 1080, 3)\n",
            "(693, 693, 3)\n",
            "(426, 640, 3)\n",
            "(2248, 4000, 3)\n",
            "(1739, 2509, 3)\n",
            "(900, 900, 3)\n",
            "(282, 425, 3)\n",
            "(1125, 1600, 3)\n",
            "(1358, 1300, 3)\n",
            "(600, 600, 3)\n",
            "(2560, 1707, 3)\n",
            "(800, 771, 3)\n",
            "(700, 675, 3)\n",
            "(376, 500, 3)\n",
            "(226, 250, 3)\n",
            "(500, 460, 3)\n",
            "(3072, 4608, 3)\n",
            "(376, 415, 3)\n",
            "(786, 1186, 3)\n",
            "(1498, 1500, 3)\n",
            "(744, 744, 3)\n",
            "(1000, 1000, 3)\n",
            "(809, 1286, 3)\n",
            "(768, 1024, 3)\n",
            "(1102, 735, 3)\n",
            "(2290, 2290, 3)\n",
            "(900, 1200, 3)\n"
          ],
          "name": "stdout"
        }
      ]
    },
    {
      "cell_type": "code",
      "metadata": {
        "id": "XIXyjwoig3hJ"
      },
      "source": [
        "#method 1:\n",
        "#1.take the dataframe of one category\n",
        "#2.take dataframe of another category\n",
        "#3. join them to get a single dataframe\n",
        "\n",
        "#method 2:\n"
      ],
      "execution_count": null,
      "outputs": []
    },
    {
      "cell_type": "code",
      "metadata": {
        "id": "mp4QxQtwi7ua"
      },
      "source": [
        "#using skimage instead of cv2,for method 2\n",
        "import os\n",
        "\n",
        "from skimage.io import imread\n",
        "from skimage.transform import resize"
      ],
      "execution_count": null,
      "outputs": []
    },
    {
      "cell_type": "code",
      "metadata": {
        "id": "f4ZJ3NM0jYmG",
        "outputId": "6034ca0e-0537-4ad0-afdd-165cfd8fc9b6",
        "colab": {
          "base_uri": "https://localhost:8080/",
          "height": 68
        }
      },
      "source": [
        "import numpy as np\n",
        "target =[] #this is the list of target output\n",
        "flat_data =[] #image pixel in flatten style'\n",
        "images=[]\n",
        "\n",
        "path='/content/drive/My Drive/AI/images/images/'\n",
        "for dirpath, dirnames, filenames in os.walk(path):\n",
        "  for filename in filenames:\n",
        "    category= dirpath.split('/')[-1]\n",
        "    target.append(category)\n",
        "    img=imread(f'{path}{category}/{filename}')\n",
        "    #resizing or scaling down\n",
        "    img_resized=resize(img,(50,50,3))\n",
        "    flat_data.append(img_resized.flatten())\n",
        "    images.append(img_resized)\n",
        "flat_data=np.array(flat_data)\n",
        "target=np.array(target)\n",
        "images=np.array(images)\n",
        "print(flat_data.shape)\n",
        "print(target.shape)\n",
        "print(images.shape)\n",
        "  "
      ],
      "execution_count": null,
      "outputs": [
        {
          "output_type": "stream",
          "text": [
            "(100, 7500)\n",
            "(100,)\n",
            "(100, 50, 50, 3)\n"
          ],
          "name": "stdout"
        }
      ]
    },
    {
      "cell_type": "code",
      "metadata": {
        "id": "EAm-JJttq6M6"
      },
      "source": [
        "os.walk?"
      ],
      "execution_count": null,
      "outputs": []
    },
    {
      "cell_type": "code",
      "metadata": {
        "id": "3oZlfIw-q98q",
        "outputId": "879ab807-e47d-4fe8-e5c1-d17b4ebe9f45",
        "colab": {
          "base_uri": "https://localhost:8080/",
          "height": 338
        }
      },
      "source": [
        "import pandas as pd\n",
        "df=pd.DataFrame(flat_data)\n",
        "df['Target']=target\n",
        "df.head()\n",
        "\n"
      ],
      "execution_count": null,
      "outputs": [
        {
          "output_type": "execute_result",
          "data": {
            "text/html": [
              "<div>\n",
              "<style scoped>\n",
              "    .dataframe tbody tr th:only-of-type {\n",
              "        vertical-align: middle;\n",
              "    }\n",
              "\n",
              "    .dataframe tbody tr th {\n",
              "        vertical-align: top;\n",
              "    }\n",
              "\n",
              "    .dataframe thead th {\n",
              "        text-align: right;\n",
              "    }\n",
              "</style>\n",
              "<table border=\"1\" class=\"dataframe\">\n",
              "  <thead>\n",
              "    <tr style=\"text-align: right;\">\n",
              "      <th></th>\n",
              "      <th>0</th>\n",
              "      <th>1</th>\n",
              "      <th>2</th>\n",
              "      <th>3</th>\n",
              "      <th>4</th>\n",
              "      <th>5</th>\n",
              "      <th>6</th>\n",
              "      <th>7</th>\n",
              "      <th>8</th>\n",
              "      <th>9</th>\n",
              "      <th>10</th>\n",
              "      <th>11</th>\n",
              "      <th>12</th>\n",
              "      <th>13</th>\n",
              "      <th>14</th>\n",
              "      <th>15</th>\n",
              "      <th>16</th>\n",
              "      <th>17</th>\n",
              "      <th>18</th>\n",
              "      <th>19</th>\n",
              "      <th>20</th>\n",
              "      <th>21</th>\n",
              "      <th>22</th>\n",
              "      <th>23</th>\n",
              "      <th>24</th>\n",
              "      <th>25</th>\n",
              "      <th>26</th>\n",
              "      <th>27</th>\n",
              "      <th>28</th>\n",
              "      <th>29</th>\n",
              "      <th>30</th>\n",
              "      <th>31</th>\n",
              "      <th>32</th>\n",
              "      <th>33</th>\n",
              "      <th>34</th>\n",
              "      <th>35</th>\n",
              "      <th>36</th>\n",
              "      <th>37</th>\n",
              "      <th>38</th>\n",
              "      <th>39</th>\n",
              "      <th>...</th>\n",
              "      <th>7461</th>\n",
              "      <th>7462</th>\n",
              "      <th>7463</th>\n",
              "      <th>7464</th>\n",
              "      <th>7465</th>\n",
              "      <th>7466</th>\n",
              "      <th>7467</th>\n",
              "      <th>7468</th>\n",
              "      <th>7469</th>\n",
              "      <th>7470</th>\n",
              "      <th>7471</th>\n",
              "      <th>7472</th>\n",
              "      <th>7473</th>\n",
              "      <th>7474</th>\n",
              "      <th>7475</th>\n",
              "      <th>7476</th>\n",
              "      <th>7477</th>\n",
              "      <th>7478</th>\n",
              "      <th>7479</th>\n",
              "      <th>7480</th>\n",
              "      <th>7481</th>\n",
              "      <th>7482</th>\n",
              "      <th>7483</th>\n",
              "      <th>7484</th>\n",
              "      <th>7485</th>\n",
              "      <th>7486</th>\n",
              "      <th>7487</th>\n",
              "      <th>7488</th>\n",
              "      <th>7489</th>\n",
              "      <th>7490</th>\n",
              "      <th>7491</th>\n",
              "      <th>7492</th>\n",
              "      <th>7493</th>\n",
              "      <th>7494</th>\n",
              "      <th>7495</th>\n",
              "      <th>7496</th>\n",
              "      <th>7497</th>\n",
              "      <th>7498</th>\n",
              "      <th>7499</th>\n",
              "      <th>Target</th>\n",
              "    </tr>\n",
              "  </thead>\n",
              "  <tbody>\n",
              "    <tr>\n",
              "      <th>0</th>\n",
              "      <td>1.000000</td>\n",
              "      <td>1.000000</td>\n",
              "      <td>1.000000</td>\n",
              "      <td>1.000000</td>\n",
              "      <td>1.000000</td>\n",
              "      <td>1.000000</td>\n",
              "      <td>1.000000</td>\n",
              "      <td>1.000000</td>\n",
              "      <td>1.000000</td>\n",
              "      <td>1.000000</td>\n",
              "      <td>1.000000</td>\n",
              "      <td>1.000000</td>\n",
              "      <td>1.000000</td>\n",
              "      <td>1.000000</td>\n",
              "      <td>1.000000</td>\n",
              "      <td>1.000000</td>\n",
              "      <td>1.000000</td>\n",
              "      <td>1.000000</td>\n",
              "      <td>1.000000</td>\n",
              "      <td>1.000000</td>\n",
              "      <td>1.000000</td>\n",
              "      <td>1.000000</td>\n",
              "      <td>1.000000</td>\n",
              "      <td>1.000000</td>\n",
              "      <td>1.000000</td>\n",
              "      <td>1.000000</td>\n",
              "      <td>1.000000</td>\n",
              "      <td>1.000000</td>\n",
              "      <td>1.000000</td>\n",
              "      <td>1.000000</td>\n",
              "      <td>1.000000</td>\n",
              "      <td>1.000000</td>\n",
              "      <td>1.000000</td>\n",
              "      <td>1.000000</td>\n",
              "      <td>1.000000</td>\n",
              "      <td>1.000000</td>\n",
              "      <td>1.000000</td>\n",
              "      <td>1.000000</td>\n",
              "      <td>1.000000</td>\n",
              "      <td>1.000000</td>\n",
              "      <td>...</td>\n",
              "      <td>0.996078</td>\n",
              "      <td>0.996078</td>\n",
              "      <td>0.996078</td>\n",
              "      <td>0.996078</td>\n",
              "      <td>0.996078</td>\n",
              "      <td>0.996078</td>\n",
              "      <td>0.996078</td>\n",
              "      <td>0.996078</td>\n",
              "      <td>0.996078</td>\n",
              "      <td>0.996078</td>\n",
              "      <td>0.996078</td>\n",
              "      <td>0.996078</td>\n",
              "      <td>0.996078</td>\n",
              "      <td>0.996078</td>\n",
              "      <td>0.996078</td>\n",
              "      <td>1.000000</td>\n",
              "      <td>1.000000</td>\n",
              "      <td>1.000000</td>\n",
              "      <td>1.000000</td>\n",
              "      <td>1.000000</td>\n",
              "      <td>1.000000</td>\n",
              "      <td>1.000000</td>\n",
              "      <td>1.000000</td>\n",
              "      <td>1.000000</td>\n",
              "      <td>1.000000</td>\n",
              "      <td>1.000000</td>\n",
              "      <td>1.000000</td>\n",
              "      <td>1.000000</td>\n",
              "      <td>1.000000</td>\n",
              "      <td>1.000000</td>\n",
              "      <td>1.000000</td>\n",
              "      <td>1.000000</td>\n",
              "      <td>1.000000</td>\n",
              "      <td>1.000000</td>\n",
              "      <td>1.000000</td>\n",
              "      <td>1.000000</td>\n",
              "      <td>1.000000</td>\n",
              "      <td>1.000000</td>\n",
              "      <td>1.000000</td>\n",
              "      <td>apple fruit</td>\n",
              "    </tr>\n",
              "    <tr>\n",
              "      <th>1</th>\n",
              "      <td>0.996078</td>\n",
              "      <td>0.996078</td>\n",
              "      <td>0.996078</td>\n",
              "      <td>0.996078</td>\n",
              "      <td>0.996078</td>\n",
              "      <td>0.996078</td>\n",
              "      <td>0.996078</td>\n",
              "      <td>0.996078</td>\n",
              "      <td>0.996078</td>\n",
              "      <td>0.996078</td>\n",
              "      <td>0.996078</td>\n",
              "      <td>0.996078</td>\n",
              "      <td>0.996078</td>\n",
              "      <td>0.996078</td>\n",
              "      <td>0.996078</td>\n",
              "      <td>0.996078</td>\n",
              "      <td>0.996078</td>\n",
              "      <td>0.996078</td>\n",
              "      <td>0.996078</td>\n",
              "      <td>0.996078</td>\n",
              "      <td>0.996078</td>\n",
              "      <td>0.996078</td>\n",
              "      <td>0.996078</td>\n",
              "      <td>0.996078</td>\n",
              "      <td>0.996078</td>\n",
              "      <td>0.996078</td>\n",
              "      <td>0.996078</td>\n",
              "      <td>0.996078</td>\n",
              "      <td>0.996078</td>\n",
              "      <td>0.996078</td>\n",
              "      <td>0.996078</td>\n",
              "      <td>0.996078</td>\n",
              "      <td>0.996078</td>\n",
              "      <td>0.996078</td>\n",
              "      <td>0.996078</td>\n",
              "      <td>0.996078</td>\n",
              "      <td>0.996078</td>\n",
              "      <td>0.996078</td>\n",
              "      <td>0.996078</td>\n",
              "      <td>0.996078</td>\n",
              "      <td>...</td>\n",
              "      <td>0.992157</td>\n",
              "      <td>0.992157</td>\n",
              "      <td>0.992157</td>\n",
              "      <td>0.992157</td>\n",
              "      <td>0.992157</td>\n",
              "      <td>0.992157</td>\n",
              "      <td>0.992157</td>\n",
              "      <td>0.992157</td>\n",
              "      <td>0.992157</td>\n",
              "      <td>0.992157</td>\n",
              "      <td>0.992157</td>\n",
              "      <td>0.992157</td>\n",
              "      <td>0.992157</td>\n",
              "      <td>0.992157</td>\n",
              "      <td>0.992157</td>\n",
              "      <td>0.992157</td>\n",
              "      <td>0.992157</td>\n",
              "      <td>0.992157</td>\n",
              "      <td>0.996078</td>\n",
              "      <td>0.996078</td>\n",
              "      <td>0.996078</td>\n",
              "      <td>0.996078</td>\n",
              "      <td>0.996078</td>\n",
              "      <td>0.996078</td>\n",
              "      <td>0.996078</td>\n",
              "      <td>0.996078</td>\n",
              "      <td>0.996078</td>\n",
              "      <td>0.996078</td>\n",
              "      <td>0.996078</td>\n",
              "      <td>0.996078</td>\n",
              "      <td>0.996078</td>\n",
              "      <td>0.996078</td>\n",
              "      <td>0.996078</td>\n",
              "      <td>0.996078</td>\n",
              "      <td>0.996078</td>\n",
              "      <td>0.996078</td>\n",
              "      <td>0.996078</td>\n",
              "      <td>0.996078</td>\n",
              "      <td>0.996078</td>\n",
              "      <td>apple fruit</td>\n",
              "    </tr>\n",
              "    <tr>\n",
              "      <th>2</th>\n",
              "      <td>1.000000</td>\n",
              "      <td>1.000000</td>\n",
              "      <td>1.000000</td>\n",
              "      <td>1.000000</td>\n",
              "      <td>1.000000</td>\n",
              "      <td>1.000000</td>\n",
              "      <td>1.000000</td>\n",
              "      <td>1.000000</td>\n",
              "      <td>1.000000</td>\n",
              "      <td>1.000000</td>\n",
              "      <td>1.000000</td>\n",
              "      <td>1.000000</td>\n",
              "      <td>1.000000</td>\n",
              "      <td>1.000000</td>\n",
              "      <td>1.000000</td>\n",
              "      <td>1.000000</td>\n",
              "      <td>1.000000</td>\n",
              "      <td>1.000000</td>\n",
              "      <td>1.000000</td>\n",
              "      <td>1.000000</td>\n",
              "      <td>1.000000</td>\n",
              "      <td>1.000000</td>\n",
              "      <td>1.000000</td>\n",
              "      <td>1.000000</td>\n",
              "      <td>1.000000</td>\n",
              "      <td>1.000000</td>\n",
              "      <td>1.000000</td>\n",
              "      <td>1.000000</td>\n",
              "      <td>1.000000</td>\n",
              "      <td>1.000000</td>\n",
              "      <td>1.000000</td>\n",
              "      <td>1.000000</td>\n",
              "      <td>1.000000</td>\n",
              "      <td>1.000000</td>\n",
              "      <td>1.000000</td>\n",
              "      <td>1.000000</td>\n",
              "      <td>1.000000</td>\n",
              "      <td>1.000000</td>\n",
              "      <td>1.000000</td>\n",
              "      <td>1.000000</td>\n",
              "      <td>...</td>\n",
              "      <td>0.996078</td>\n",
              "      <td>0.996078</td>\n",
              "      <td>0.996078</td>\n",
              "      <td>1.000000</td>\n",
              "      <td>1.000000</td>\n",
              "      <td>1.000000</td>\n",
              "      <td>1.000000</td>\n",
              "      <td>1.000000</td>\n",
              "      <td>1.000000</td>\n",
              "      <td>1.000000</td>\n",
              "      <td>1.000000</td>\n",
              "      <td>1.000000</td>\n",
              "      <td>1.000000</td>\n",
              "      <td>1.000000</td>\n",
              "      <td>1.000000</td>\n",
              "      <td>1.000000</td>\n",
              "      <td>1.000000</td>\n",
              "      <td>1.000000</td>\n",
              "      <td>1.000000</td>\n",
              "      <td>1.000000</td>\n",
              "      <td>1.000000</td>\n",
              "      <td>1.000000</td>\n",
              "      <td>1.000000</td>\n",
              "      <td>1.000000</td>\n",
              "      <td>1.000000</td>\n",
              "      <td>1.000000</td>\n",
              "      <td>1.000000</td>\n",
              "      <td>1.000000</td>\n",
              "      <td>1.000000</td>\n",
              "      <td>1.000000</td>\n",
              "      <td>1.000000</td>\n",
              "      <td>1.000000</td>\n",
              "      <td>1.000000</td>\n",
              "      <td>1.000000</td>\n",
              "      <td>1.000000</td>\n",
              "      <td>1.000000</td>\n",
              "      <td>1.000000</td>\n",
              "      <td>1.000000</td>\n",
              "      <td>1.000000</td>\n",
              "      <td>apple fruit</td>\n",
              "    </tr>\n",
              "    <tr>\n",
              "      <th>3</th>\n",
              "      <td>0.996078</td>\n",
              "      <td>0.996078</td>\n",
              "      <td>0.996078</td>\n",
              "      <td>0.996078</td>\n",
              "      <td>0.996078</td>\n",
              "      <td>0.996078</td>\n",
              "      <td>0.996078</td>\n",
              "      <td>0.996078</td>\n",
              "      <td>0.996078</td>\n",
              "      <td>0.996078</td>\n",
              "      <td>0.996078</td>\n",
              "      <td>0.996078</td>\n",
              "      <td>0.996078</td>\n",
              "      <td>0.996078</td>\n",
              "      <td>0.996078</td>\n",
              "      <td>0.996078</td>\n",
              "      <td>0.996078</td>\n",
              "      <td>0.996078</td>\n",
              "      <td>0.996078</td>\n",
              "      <td>0.996078</td>\n",
              "      <td>0.996078</td>\n",
              "      <td>0.996078</td>\n",
              "      <td>0.996078</td>\n",
              "      <td>0.996078</td>\n",
              "      <td>0.996078</td>\n",
              "      <td>0.996078</td>\n",
              "      <td>0.996078</td>\n",
              "      <td>0.996078</td>\n",
              "      <td>0.996078</td>\n",
              "      <td>0.996078</td>\n",
              "      <td>0.996078</td>\n",
              "      <td>0.996078</td>\n",
              "      <td>0.996078</td>\n",
              "      <td>0.996078</td>\n",
              "      <td>0.996078</td>\n",
              "      <td>0.996078</td>\n",
              "      <td>0.996078</td>\n",
              "      <td>0.996078</td>\n",
              "      <td>0.996078</td>\n",
              "      <td>0.996078</td>\n",
              "      <td>...</td>\n",
              "      <td>0.996078</td>\n",
              "      <td>0.996078</td>\n",
              "      <td>0.996078</td>\n",
              "      <td>0.996078</td>\n",
              "      <td>0.996078</td>\n",
              "      <td>0.996078</td>\n",
              "      <td>0.996078</td>\n",
              "      <td>0.996078</td>\n",
              "      <td>0.996078</td>\n",
              "      <td>0.996078</td>\n",
              "      <td>0.996078</td>\n",
              "      <td>0.996078</td>\n",
              "      <td>0.996078</td>\n",
              "      <td>0.996078</td>\n",
              "      <td>0.996078</td>\n",
              "      <td>0.996078</td>\n",
              "      <td>0.996078</td>\n",
              "      <td>0.996078</td>\n",
              "      <td>0.996078</td>\n",
              "      <td>0.996078</td>\n",
              "      <td>0.996078</td>\n",
              "      <td>0.996078</td>\n",
              "      <td>0.996078</td>\n",
              "      <td>0.996078</td>\n",
              "      <td>0.996078</td>\n",
              "      <td>0.996078</td>\n",
              "      <td>0.996078</td>\n",
              "      <td>0.996078</td>\n",
              "      <td>0.996078</td>\n",
              "      <td>0.996078</td>\n",
              "      <td>0.996078</td>\n",
              "      <td>0.996078</td>\n",
              "      <td>0.996078</td>\n",
              "      <td>0.996078</td>\n",
              "      <td>0.996078</td>\n",
              "      <td>0.996078</td>\n",
              "      <td>0.996078</td>\n",
              "      <td>0.996078</td>\n",
              "      <td>0.996078</td>\n",
              "      <td>apple fruit</td>\n",
              "    </tr>\n",
              "    <tr>\n",
              "      <th>4</th>\n",
              "      <td>0.623529</td>\n",
              "      <td>0.122941</td>\n",
              "      <td>0.117647</td>\n",
              "      <td>0.662745</td>\n",
              "      <td>0.084510</td>\n",
              "      <td>0.121569</td>\n",
              "      <td>0.555882</td>\n",
              "      <td>0.050000</td>\n",
              "      <td>0.078431</td>\n",
              "      <td>0.556863</td>\n",
              "      <td>0.043137</td>\n",
              "      <td>0.078824</td>\n",
              "      <td>0.693529</td>\n",
              "      <td>0.177255</td>\n",
              "      <td>0.180392</td>\n",
              "      <td>0.717647</td>\n",
              "      <td>0.352157</td>\n",
              "      <td>0.269216</td>\n",
              "      <td>0.692157</td>\n",
              "      <td>0.374706</td>\n",
              "      <td>0.263137</td>\n",
              "      <td>0.697059</td>\n",
              "      <td>0.237255</td>\n",
              "      <td>0.184314</td>\n",
              "      <td>0.745098</td>\n",
              "      <td>0.200000</td>\n",
              "      <td>0.203922</td>\n",
              "      <td>0.698627</td>\n",
              "      <td>0.131961</td>\n",
              "      <td>0.169216</td>\n",
              "      <td>0.642549</td>\n",
              "      <td>0.054902</td>\n",
              "      <td>0.101961</td>\n",
              "      <td>0.578627</td>\n",
              "      <td>0.080392</td>\n",
              "      <td>0.103922</td>\n",
              "      <td>0.513725</td>\n",
              "      <td>0.023529</td>\n",
              "      <td>0.050980</td>\n",
              "      <td>0.568627</td>\n",
              "      <td>...</td>\n",
              "      <td>0.666667</td>\n",
              "      <td>0.192157</td>\n",
              "      <td>0.200000</td>\n",
              "      <td>0.580196</td>\n",
              "      <td>0.145098</td>\n",
              "      <td>0.152549</td>\n",
              "      <td>0.418824</td>\n",
              "      <td>0.054902</td>\n",
              "      <td>0.070588</td>\n",
              "      <td>0.320980</td>\n",
              "      <td>0.007843</td>\n",
              "      <td>0.015686</td>\n",
              "      <td>0.345098</td>\n",
              "      <td>0.003922</td>\n",
              "      <td>0.011765</td>\n",
              "      <td>0.303922</td>\n",
              "      <td>0.007843</td>\n",
              "      <td>0.015686</td>\n",
              "      <td>0.325490</td>\n",
              "      <td>0.043333</td>\n",
              "      <td>0.058824</td>\n",
              "      <td>0.477255</td>\n",
              "      <td>0.109804</td>\n",
              "      <td>0.138627</td>\n",
              "      <td>0.541176</td>\n",
              "      <td>0.160784</td>\n",
              "      <td>0.188235</td>\n",
              "      <td>0.580392</td>\n",
              "      <td>0.168627</td>\n",
              "      <td>0.192157</td>\n",
              "      <td>0.661765</td>\n",
              "      <td>0.193137</td>\n",
              "      <td>0.203922</td>\n",
              "      <td>0.656667</td>\n",
              "      <td>0.213725</td>\n",
              "      <td>0.203922</td>\n",
              "      <td>0.527451</td>\n",
              "      <td>0.215686</td>\n",
              "      <td>0.149020</td>\n",
              "      <td>apple fruit</td>\n",
              "    </tr>\n",
              "  </tbody>\n",
              "</table>\n",
              "<p>5 rows × 7501 columns</p>\n",
              "</div>"
            ],
            "text/plain": [
              "          0         1         2  ...      7498      7499       Target\n",
              "0  1.000000  1.000000  1.000000  ...  1.000000  1.000000  apple fruit\n",
              "1  0.996078  0.996078  0.996078  ...  0.996078  0.996078  apple fruit\n",
              "2  1.000000  1.000000  1.000000  ...  1.000000  1.000000  apple fruit\n",
              "3  0.996078  0.996078  0.996078  ...  0.996078  0.996078  apple fruit\n",
              "4  0.623529  0.122941  0.117647  ...  0.215686  0.149020  apple fruit\n",
              "\n",
              "[5 rows x 7501 columns]"
            ]
          },
          "metadata": {
            "tags": []
          },
          "execution_count": 35
        }
      ]
    },
    {
      "cell_type": "code",
      "metadata": {
        "id": "ivSKCBhBxp6R",
        "outputId": "bd668810-bfdb-4bcb-e23d-742ab3d5d430",
        "colab": {
          "base_uri": "https://localhost:8080/",
          "height": 34
        }
      },
      "source": [
        "df.shape"
      ],
      "execution_count": null,
      "outputs": [
        {
          "output_type": "execute_result",
          "data": {
            "text/plain": [
              "(100, 7501)"
            ]
          },
          "metadata": {
            "tags": []
          },
          "execution_count": 36
        }
      ]
    },
    {
      "cell_type": "code",
      "metadata": {
        "id": "qhRezpp4CFDA",
        "outputId": "96686cb8-2fda-4975-ec7e-67a25d2d73c9",
        "colab": {
          "base_uri": "https://localhost:8080/",
          "height": 34
        }
      },
      "source": [
        "x=flat_data\n",
        "y=target\n",
        "from sklearn.model_selection import train_test_split\n",
        "x_train,x_test,y_train,y_test=train_test_split(x,y,random_state=0)\n",
        "(x_train).shape"
      ],
      "execution_count": null,
      "outputs": [
        {
          "output_type": "execute_result",
          "data": {
            "text/plain": [
              "(75, 7500)"
            ]
          },
          "metadata": {
            "tags": []
          },
          "execution_count": 37
        }
      ]
    },
    {
      "cell_type": "code",
      "metadata": {
        "id": "xYt9QyMmDw7r",
        "outputId": "5eb4e7a4-03b1-45fb-b155-82367e6da5ce",
        "colab": {
          "base_uri": "https://localhost:8080/",
          "height": 34
        }
      },
      "source": [
        "x_test.shape"
      ],
      "execution_count": null,
      "outputs": [
        {
          "output_type": "execute_result",
          "data": {
            "text/plain": [
              "(25, 7500)"
            ]
          },
          "metadata": {
            "tags": []
          },
          "execution_count": 38
        }
      ]
    },
    {
      "cell_type": "code",
      "metadata": {
        "id": "IIglSq9QD1BS",
        "outputId": "20199212-9d6b-41d5-afdb-bfa7bbde238a",
        "colab": {
          "base_uri": "https://localhost:8080/",
          "height": 136
        }
      },
      "source": [
        "from sklearn.svm import SVC\n",
        "model=SVC()\n",
        "model.fit(x_train,y_train)\n",
        "y_pred=model.predict(x_test)\n",
        "y_pred"
      ],
      "execution_count": null,
      "outputs": [
        {
          "output_type": "execute_result",
          "data": {
            "text/plain": [
              "array(['apple fruit', 'lemon fruit', 'apple fruit', 'lemon fruit',\n",
              "       'lemon fruit', 'lemon fruit', 'apple fruit', 'lemon fruit',\n",
              "       'lemon fruit', 'lemon fruit', 'lemon fruit', 'lemon fruit',\n",
              "       'lemon fruit', 'apple fruit', 'apple fruit', 'apple fruit',\n",
              "       'lemon fruit', 'apple fruit', 'lemon fruit', 'apple fruit',\n",
              "       'apple fruit', 'lemon fruit', 'apple fruit', 'lemon fruit',\n",
              "       'apple fruit'], dtype='<U11')"
            ]
          },
          "metadata": {
            "tags": []
          },
          "execution_count": 39
        }
      ]
    },
    {
      "cell_type": "code",
      "metadata": {
        "id": "0GM-_reUEI8T",
        "outputId": "f99e7cc4-87f4-4a9d-e747-c869081a4887",
        "colab": {
          "base_uri": "https://localhost:8080/",
          "height": 136
        }
      },
      "source": [
        "y_test#verification"
      ],
      "execution_count": null,
      "outputs": [
        {
          "output_type": "execute_result",
          "data": {
            "text/plain": [
              "array(['apple fruit', 'lemon fruit', 'apple fruit', 'lemon fruit',\n",
              "       'lemon fruit', 'lemon fruit', 'apple fruit', 'lemon fruit',\n",
              "       'lemon fruit', 'lemon fruit', 'lemon fruit', 'lemon fruit',\n",
              "       'lemon fruit', 'apple fruit', 'apple fruit', 'apple fruit',\n",
              "       'apple fruit', 'apple fruit', 'apple fruit', 'apple fruit',\n",
              "       'apple fruit', 'lemon fruit', 'apple fruit', 'lemon fruit',\n",
              "       'apple fruit'], dtype='<U11')"
            ]
          },
          "metadata": {
            "tags": []
          },
          "execution_count": 40
        }
      ]
    },
    {
      "cell_type": "code",
      "metadata": {
        "id": "05v5QSf8ERGa",
        "outputId": "30277b87-2992-40f9-ba80-195ddebaaa79",
        "colab": {
          "base_uri": "https://localhost:8080/",
          "height": 34
        }
      },
      "source": [
        "from sklearn.metrics import confusion_matrix,accuracy_score\n",
        "accuracy_score(y_pred,y_test)"
      ],
      "execution_count": null,
      "outputs": [
        {
          "output_type": "execute_result",
          "data": {
            "text/plain": [
              "0.92"
            ]
          },
          "metadata": {
            "tags": []
          },
          "execution_count": 41
        }
      ]
    },
    {
      "cell_type": "code",
      "metadata": {
        "id": "TnQ1SG8rEihf",
        "outputId": "96b7cb3a-a3a6-4977-ad8e-dbfb56f20660",
        "colab": {
          "base_uri": "https://localhost:8080/",
          "height": 51
        }
      },
      "source": [
        "confusion_matrix(y_pred,y_test)"
      ],
      "execution_count": null,
      "outputs": [
        {
          "output_type": "execute_result",
          "data": {
            "text/plain": [
              "array([[11,  0],\n",
              "       [ 2, 12]])"
            ]
          },
          "metadata": {
            "tags": []
          },
          "execution_count": 42
        }
      ]
    },
    {
      "cell_type": "code",
      "metadata": {
        "id": "n5jJA75dEyH2",
        "outputId": "2ae693ac-9b61-480c-8953-4ea497961ffc",
        "colab": {
          "base_uri": "https://localhost:8080/",
          "height": 119
        }
      },
      "source": [
        "while (True):\n",
        "  path=input(\"Enter the link of the image of an APPLE or LEMON :\")\n",
        "  img=imread(path)\n",
        "  img_resize=resize(img,(50,50,3))\n",
        "  flat_data_out=(img_resize.flatten())\n",
        "  output=model.predict([flat_data_out])\n",
        "  print(output)\n",
        "  reply=input(\"Enter Y to continue and N to exit:\")\n",
        "  reply=reply.upper()\n",
        "  if(reply=='N'):\n",
        "    break"
      ],
      "execution_count": null,
      "outputs": [
        {
          "output_type": "stream",
          "text": [
            "Enter the link of the image of an APPLE or LEMON :https://thumbs.dreamstime.com/z/lemon-fruit-white-25232053.jpg\n",
            "['lemon fruit']\n",
            "Enter Y to continue and N to exit:Y\n",
            "Enter the link of the image of an APPLE or LEMON :http://www.pngall.com/wp-content/uploads/2016/04/Apple-Fruit-Free-PNG-Image.png\n",
            "['apple fruit']\n",
            "Enter Y to continue and N to exit:N\n"
          ],
          "name": "stdout"
        }
      ]
    },
    {
      "cell_type": "code",
      "metadata": {
        "id": "Njih20wZF7Ag"
      },
      "source": [
        ""
      ],
      "execution_count": null,
      "outputs": []
    }
  ]
}